{
 "cells": [
  {
   "cell_type": "code",
   "id": "initial_id",
   "metadata": {
    "collapsed": true,
    "ExecuteTime": {
     "end_time": "2025-08-29T03:20:51.358678Z",
     "start_time": "2025-08-29T03:20:49.702188Z"
    }
   },
   "source": [
    "from langchain_community.tools import DuckDuckGoSearchRun\n",
    "\n",
    "search = DuckDuckGoSearchRun()\n",
    "\n",
    "search.invoke(\"Obama's first name?\")"
   ],
   "outputs": [
    {
     "data": {
      "text/plain": [
       "\"3 weeks ago - Obama directed Illinois Project Vote from April to October 1992, a voter registration drive, officially nonpartisan, that helped Carol Moseley Braun become the first black woman ever elected to the Senate. He headed up a staff of 10 and 700 volunteers that achieved its goal of 400,000 registered African Americans in the state, leading Crain' s Chicago Business to name ... 2 days ago - Barack Hussein Obama II (born August 4, 1961) is an American politician who was the 44th president of the United States from 2009 to 2017. A member of the Democratic Party, he was the first African American president. Obama previously served as a U.S. senator representing Illinois from 2005 ... 1 month ago - The family of Barack Obama , the 44th president of the United States, is a prominent American family active in law, education, activism and politics. Obama's immediate family circle was the first family of the United States from 2009 to 2017 during Obama's presidency, and are the first such ... 13 hours ago - Michelle LaVaughn Robinson Obama (née Robinson; born January 17, 1964) is an American attorney and author who served as the first lady of the United States from 2009 to 2017, being married to Barack Obama, the 44th president of the United States. Raised on the South Side of Chicago, Obama ... 2 weeks ago - Barack Hussein Obama II was born on August 4, 1961 in Kapiʻolani Medical Center for Women and Children (called Kapiʻolani Maternity & Gynecological Hospital in 1961) in Honolulu, Hawaii. He is the first President to have been born in Hawaii. His father was a black exchange student from Kenya ...\""
      ]
     },
     "execution_count": 1,
     "metadata": {},
     "output_type": "execute_result"
    }
   ],
   "execution_count": 1
  },
  {
   "metadata": {},
   "cell_type": "markdown",
   "source": "To get more additional information (e.g. link, source) use DuckDuckGoSearchResults()",
   "id": "1d356c91fd1a5e21"
  },
  {
   "metadata": {
    "ExecuteTime": {
     "end_time": "2025-08-29T03:21:02.045772Z",
     "start_time": "2025-08-29T03:21:00.852362Z"
    }
   },
   "cell_type": "code",
   "source": [
    "from langchain_community.tools import DuckDuckGoSearchResults\n",
    "\n",
    "search = DuckDuckGoSearchResults()\n",
    "\n",
    "search.invoke(\"Obama\")"
   ],
   "id": "3c57e0496029dacd",
   "outputs": [
    {
     "data": {
      "text/plain": [
       "\"snippet: Obama was elected to the Illinois Senate in 1996, succeeding Democratic state senator Alice Palmer from Illinois's 13th District , which, at that ..., title: Barack Obama - Wikipedia, link: https://en.wikipedia.org/wiki/Barack_Obama, snippet: Obama 's accomplishments during the first 100 days of his presidency included signing the Lilly Ledbetter Fair Pay Act of 2009 relaxing the statute of ..., title: Presidency of Barack Obama - Wikipedia, link: https://en.wikipedia.org/wiki/Presidency_of_Barack_Obama, snippet: Over the course of the Obama presidency, particularly during the second term, Michelle Obama was subject to speculation over whether she would run ..., title: Michelle Obama - Wikipedia, link: https://en.wikipedia.org/wiki/Michelle_Obama, snippet: During the campaign, some people said that Obama 's friends were Tony Rezko, a landlord, and former revolutionary Bill Ayers ; Obama said that they ..., title: Barack Obama - Simple English Wikipedia, the free encyclopedia, link: https://simple.wikipedia.org/wiki/Barack_Obama\""
      ]
     },
     "execution_count": 2,
     "metadata": {},
     "output_type": "execute_result"
    }
   ],
   "execution_count": 2
  },
  {
   "metadata": {},
   "cell_type": "markdown",
   "source": [
    "By default the results are returned as a comma-separated string of kv pairs from the original search results.\n",
    "\n",
    "You can also choose to return the search results as a list by setting output_format=\"list\" or as a JSON string by setting output_format=\"json\"."
   ],
   "id": "3b5b026819beddff"
  },
  {
   "metadata": {
    "ExecuteTime": {
     "end_time": "2025-08-29T03:21:54.286675Z",
     "start_time": "2025-08-29T03:21:53.135731Z"
    }
   },
   "cell_type": "code",
   "source": [
    "search = DuckDuckGoSearchResults(output_format=\"json\")\n",
    "\n",
    "search.invoke(\"Obama\")"
   ],
   "id": "76ca7fa45eac6c",
   "outputs": [
    {
     "data": {
      "text/plain": [
       "'[{\"snippet\": \"Obama was elected to the Illinois Senate in 1996, succeeding Democratic state senator Alice Palmer from Illinois\\'s 13th District , which, at that ...\", \"title\": \"Barack Obama - Wikipedia\", \"link\": \"https://en.wikipedia.org/wiki/Barack_Obama\"}, {\"snippet\": \"Obama \\'s accomplishments during the first 100 days of his presidency included signing the Lilly Ledbetter Fair Pay Act of 2009 relaxing the statute of ...\", \"title\": \"Presidency of Barack Obama - Wikipedia\", \"link\": \"https://en.wikipedia.org/wiki/Presidency_of_Barack_Obama\"}, {\"snippet\": \"Over the course of the Obama presidency, particularly during the second term, Michelle Obama was subject to speculation over whether she would run ...\", \"title\": \"Michelle Obama - Wikipedia\", \"link\": \"https://en.wikipedia.org/wiki/Michelle_Obama\"}, {\"snippet\": \"During the campaign, some people said that Obama \\'s friends were Tony Rezko, a landlord, and former revolutionary Bill Ayers ; Obama said that they ...\", \"title\": \"Barack Obama - Simple English Wikipedia, the free encyclopedia\", \"link\": \"https://simple.wikipedia.org/wiki/Barack_Obama\"}]'"
      ]
     },
     "execution_count": 3,
     "metadata": {},
     "output_type": "execute_result"
    }
   ],
   "execution_count": 3
  },
  {
   "metadata": {},
   "cell_type": "markdown",
   "source": "You can also just search for news articles. Use the keyword backend=\"news\"",
   "id": "9f2bbc66a232b6de"
  },
  {
   "metadata": {
    "ExecuteTime": {
     "end_time": "2025-08-29T03:22:20.760402Z",
     "start_time": "2025-08-29T03:22:20.191513Z"
    }
   },
   "cell_type": "code",
   "source": [
    "search = DuckDuckGoSearchResults(backend=\"news\")\n",
    "\n",
    "search.invoke(\"Obama\")"
   ],
   "id": "b172495dca1eeaf5",
   "outputs": [
    {
     "data": {
      "text/plain": [
       "'snippet: Former President Barack Obama warned of \"dangerous trends\" emerging from the Trump administration,..., title: Obama slams Trump\\'s use of National Guard to help cities fight crime as..., link: https://www.yahoo.com/news/articles/obama-slams-trumps-national-guard-001718560.html, date: 2025-08-29T00:22:20+00:00, source: Fox News, snippet: Barack Obama has escalated his attacks on Donald Trump, a sharp departure from his earlier playbook for handling his successor. The 44th president issued..., title: Obama Turns Up the Heat on Trump, link: https://www.thedailybeast.com/obama-turns-up-the-heat-on-trump/, date: 2025-08-28T21:22:20+00:00, source: The Daily Beast, snippet: Former President Barack Obama urged Americans not to be paralyzed in the wake of another mass..., title: America can\\'t \\'become numb to mass shootings,\\' Obama says, link: https://www.yahoo.com/news/articles/america-cant-become-mass-shootings-161847872.html, date: 2025-08-28T16:22:20+00:00, source: USA TODAY, snippet: Barack Obama ’s daughter Malia made headlines in Los Angeles when she stepped out after a workout, showing off her toned abs in a casual athleisure look...., title: Barack Obama’s Daughter Malia Flaunts Her Abs in LA, link: https://www.yahoo.com/entertainment/celebrity/articles/barack-obama-daughter-malia-flaunts-033703136.html, date: 2025-08-28T03:22:20+00:00, source: Mandatory'"
      ]
     },
     "execution_count": 4,
     "metadata": {},
     "output_type": "execute_result"
    }
   ],
   "execution_count": 4
  },
  {
   "metadata": {},
   "cell_type": "markdown",
   "source": "You can also directly pass a custom DuckDuckGoSearchAPIWrapper to DuckDuckGoSearchResults to provide more control over the search results.",
   "id": "98b5d04d4ff0cc81"
  },
  {
   "metadata": {
    "ExecuteTime": {
     "end_time": "2025-08-29T03:22:55.841710Z",
     "start_time": "2025-08-29T03:22:55.138272Z"
    }
   },
   "cell_type": "code",
   "source": [
    "from langchain_community.utilities import DuckDuckGoSearchAPIWrapper\n",
    "\n",
    "wrapper = DuckDuckGoSearchAPIWrapper(region=\"de-de\", time=\"d\", max_results=2)\n",
    "\n",
    "search = DuckDuckGoSearchResults(api_wrapper=wrapper, source=\"news\")\n",
    "\n",
    "search.invoke(\"Obama\")"
   ],
   "id": "d131167ce1784677",
   "outputs": [
    {
     "data": {
      "text/plain": [
       "'snippet: Barack Hussein Obama II [bəˈɹɑːk hʊˈseɪn oʊˈbɑːmə] (* 4. August 1961 in Honolulu, Hawaii) ist ein US-amerikanischer Politiker der Demokratischen Partei. Er war von 2009 bis 2017 der 44. Präsident der Vereinigten Staaten.Obama ist ein auf US-Verfassungsrecht spezialisierter Rechtsanwalt. 1992 schloss er sich der Demokratischen Partei an, für die er 1997 Mitglied im Senat von Illinois wurde. Im Anschluss gehörte er von 2005 bis 2008 als Junior Senator für diesen US-Bundesstaat dem Senat der Vereinigten Staaten an. In den Vorwahlen zur Präsidentschaftswahl in den Vereinigten Staaten 2008 konnte er sich parteiintern äußerst knapp gegen Hillary Clinton durchsetzen. Die Präsidentschaftswahl des Jahres 2008 gewann er dann als Kandidat der Demokraten gegen den Republikaner John McCain.Mit seinem Einzug in das Weiße Haus im Januar 2009 bekleidete erstmals ein Afroamerikaner das Amt des Präsidenten. Bei der Wahl des Jahres 2012 setzte sich Obama gegenüber seinem republikanischen Herausforderer Mitt Romney durch und wurde so für eine zweite Amtszeit bestätigt. Vizepräsident während seiner beiden Amtsperioden war der spätere US-Präsident Joe Biden. Im Dezember 2009 erhielt Obama den Friedensnobelpreis., title: Obama, link: https://de.wikipedia.org/wiki/Obama, snippet: vor 13 Stunden — Der ehemalige US-Präsident Barack Obama hat seine Leseliste Sommer 2025 veröffentlicht. Diese Titel stehen auf der Liste (wenn vorhanden, sind die deutschen ..., title: Das ist Obamas Leseliste Sommer 2025, link: https://www.boersenblatt.net/news/literaturszene/das-ist-obamas-leseliste-sommer-2025-387059, snippet: vor 8 Stunden — So idyllisch ist das Präsidentenleben: Anlässlich des US-Vatertags hat First Lady Michelle Obama private Familienfotos veröffentlicht. Sie zeigen die Obamas ..., title: US-Präsident: Private Einblicke bei Familie Obama, link: https://www.welt.de/vermischtes/gallery106608613/Private-Einblicke-bei-Familie-Obama.html, snippet: vor 8 Stunden — Auf seinem Truth-Social-Profil teilt Donald Trump ein mit KI generiertes Video, in dem sein Amtsvorgänger Barack Obama im Oval Office von zwei FBI-Agenten ..., title: Trump verbreitet KI-Video von Obama in Handschellen, link: https://www.n-tv.de/mediathek/videos/politik/Trump-verbreitet-KI-Video-von-Obama-in-Handschellen-article25915226.html'"
      ]
     },
     "execution_count": 5,
     "metadata": {},
     "output_type": "execute_result"
    }
   ],
   "execution_count": 5
  },
  {
   "metadata": {},
   "cell_type": "code",
   "outputs": [],
   "execution_count": null,
   "source": "",
   "id": "35e729bb91511a9b"
  }
 ],
 "metadata": {
  "kernelspec": {
   "display_name": "Python 3",
   "language": "python",
   "name": "python3"
  },
  "language_info": {
   "codemirror_mode": {
    "name": "ipython",
    "version": 2
   },
   "file_extension": ".py",
   "mimetype": "text/x-python",
   "name": "python",
   "nbconvert_exporter": "python",
   "pygments_lexer": "ipython2",
   "version": "2.7.6"
  }
 },
 "nbformat": 4,
 "nbformat_minor": 5
}
