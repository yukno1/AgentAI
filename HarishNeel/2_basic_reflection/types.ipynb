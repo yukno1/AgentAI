{
 "cells": [
  {
   "metadata": {
    "ExecuteTime": {
     "end_time": "2025-08-08T07:26:36.658366Z",
     "start_time": "2025-08-08T07:26:35.772979Z"
    }
   },
   "cell_type": "code",
   "source": [
    "from pydantic import BaseModel, Field\n",
    "from langchain_ollama import ChatOllama\n",
    "\n",
    "llm = ChatOllama(model='deepseek-r1:8b-llama-distill-q4_K_M')"
   ],
   "id": "16b57f379a84bb",
   "outputs": [],
   "execution_count": 5
  },
  {
   "cell_type": "code",
   "id": "initial_id",
   "metadata": {
    "collapsed": true,
    "ExecuteTime": {
     "end_time": "2025-08-07T18:42:44.678424Z",
     "start_time": "2025-08-07T18:42:41.183714Z"
    }
   },
   "source": [
    "class Country(BaseModel):\n",
    "    \"\"\"Information about the country\"\"\"\n",
    "\n",
    "    name: str = Field(description=\"name of the country\")\n",
    "    language: str = Field(description=\"language of the country\")\n",
    "    capital: str = Field(description=\"capital of the country\")"
   ],
   "outputs": [],
   "execution_count": 1
  },
  {
   "metadata": {
    "ExecuteTime": {
     "end_time": "2025-08-07T18:43:05.843586Z",
     "start_time": "2025-08-07T18:43:05.822657Z"
    }
   },
   "cell_type": "code",
   "source": [
    "structured_llm = llm.with_structured_output(Country)\n",
    "structured_llm"
   ],
   "id": "46baba322428a81a",
   "outputs": [
    {
     "data": {
      "text/plain": [
       "RunnableBinding(bound=ChatOllama(model='qwen3:8b'), kwargs={'format': {'description': 'Information about the country', 'properties': {'name': {'description': 'name of the country', 'title': 'Name', 'type': 'string'}, 'language': {'description': 'language of the country', 'title': 'Language', 'type': 'string'}, 'capital': {'description': 'capital of the country', 'title': 'Capital', 'type': 'string'}}, 'required': ['name', 'language', 'capital'], 'title': 'Country', 'type': 'object'}, 'ls_structured_output_format': {'kwargs': {'method': 'json_schema'}, 'schema': <class '__main__.Country'>}}, config={}, config_factories=[])\n",
       "| PydanticOutputParser(pydantic_object=<class '__main__.Country'>)"
      ]
     },
     "execution_count": 2,
     "metadata": {},
     "output_type": "execute_result"
    }
   ],
   "execution_count": 2
  },
  {
   "metadata": {},
   "cell_type": "markdown",
   "source": "use Ollama in jupyter needs jupyter-ai package",
   "id": "caeaa98711d48b72"
  },
  {
   "metadata": {
    "ExecuteTime": {
     "end_time": "2025-08-07T18:46:41.096589Z",
     "start_time": "2025-08-07T18:46:36.873507Z"
    }
   },
   "cell_type": "code",
   "source": "structured_llm.invoke(\"Tell me about France\")",
   "id": "fa80b83769793f19",
   "outputs": [
    {
     "data": {
      "text/plain": [
       "Country(name='France', language='French', capital='Paris')"
      ]
     },
     "execution_count": 4,
     "metadata": {},
     "output_type": "execute_result"
    }
   ],
   "execution_count": 4
  },
  {
   "metadata": {},
   "cell_type": "markdown",
   "source": "if don't want additional validations, can always go for typedict",
   "id": "492374579a1745a4"
  },
  {
   "metadata": {
    "ExecuteTime": {
     "end_time": "2025-08-08T07:26:54.601279Z",
     "start_time": "2025-08-08T07:26:43.463114Z"
    }
   },
   "cell_type": "code",
   "source": [
    "from typing_extensions import Annotated, TypedDict\n",
    "from typing import Optional\n",
    "\n",
    "# TypeDict\n",
    "class Joke(TypedDict):\n",
    "    \"\"\"Joke to tell user.\"\"\"\n",
    "\n",
    "    setup: Annotated[str, ..., \"The setup of the joke\"]\n",
    "\n",
    "    # alternatively,\n",
    "\n",
    "    # setup: str\n",
    "    # setup: Annotated[str, ...]\n",
    "    # setup: Annotated[str, \"foo\"]\n",
    "\n",
    "    punchline: Annotated[str, ..., \"The punchline of the joke\"]\n",
    "    rating: Annotated[Optional[int], None, \"How funny the joke is, from 1 to 10\"]\n",
    "\n",
    "structured_llm = llm.with_structured_output(Joke)\n",
    "\n",
    "structured_llm.invoke(\"Tell me a joke about cats\")"
   ],
   "id": "d90a63945151c8c",
   "outputs": [
    {
     "data": {
      "text/plain": [
       "{'setup': \"What do you call a cat that can't decide what to eat?\",\n",
       " 'punchline': \"A cat that's on the fence about food!\",\n",
       " 'rating': 0}"
      ]
     },
     "execution_count": 6,
     "metadata": {},
     "output_type": "execute_result"
    }
   ],
   "execution_count": 6
  }
 ],
 "metadata": {
  "kernelspec": {
   "display_name": "Python 3",
   "language": "python",
   "name": "python3"
  },
  "language_info": {
   "codemirror_mode": {
    "name": "ipython",
    "version": 2
   },
   "file_extension": ".py",
   "mimetype": "text/x-python",
   "name": "python",
   "nbconvert_exporter": "python",
   "pygments_lexer": "ipython2",
   "version": "2.7.6"
  }
 },
 "nbformat": 4,
 "nbformat_minor": 5
}
